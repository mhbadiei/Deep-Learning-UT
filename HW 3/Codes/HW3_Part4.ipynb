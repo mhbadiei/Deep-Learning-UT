{
  "nbformat": 4,
  "nbformat_minor": 0,
  "metadata": {
    "colab": {
      "name": "HW4.ipynb",
      "provenance": [],
      "collapsed_sections": []
    },
    "kernelspec": {
      "name": "python3",
      "display_name": "Python 3"
    },
    "language_info": {
      "name": "python"
    }
  },
  "cells": [
    {
      "cell_type": "code",
      "execution_count": 43,
      "metadata": {
        "id": "XVnSd6Ahkp_j",
        "colab": {
          "base_uri": "https://localhost:8080/",
          "height": 1000
        },
        "outputId": "c4166368-cfc9-4ba4-feb3-86dcab0794d2"
      },
      "outputs": [
        {
          "output_type": "display_data",
          "data": {
            "image/png": "[encoded data removed]",
            "text/plain": [
              "<Figure size 432x288 with 2 Axes>"
            ]
          },
          "metadata": {
            "needs_background": "light"
          }
        },
        {
          "output_type": "display_data",
          "data": {
            "image/png": "[encoded data removed]",
            "text/plain": [
              "<Figure size 432x288 with 2 Axes>"
            ]
          },
          "metadata": {
            "needs_background": "light"
          }
        },
        {
          "output_type": "display_data",
          "data": {
            "image/png": "[encoded data removed]",
            "text/plain": [
              "<Figure size 432x288 with 2 Axes>"
            ]
          },
          "metadata": {
            "needs_background": "light"
          }
        },
        {
          "output_type": "stream",
          "name": "stdout",
          "text": [
            "Forward Prediction\n"
          ]
        },
        {
          "output_type": "display_data",
          "data": {
            "image/png": "[encoded data removed]",
            "text/plain": [
              "<Figure size 432x288 with 3 Axes>"
            ]
          },
          "metadata": {
            "needs_background": "light"
          }
        },
        {
          "output_type": "stream",
          "name": "stdout",
          "text": [
            "Backward Prediction\n"
          ]
        },
        {
          "output_type": "display_data",
          "data": {
            "image/png": "[encoded data removed]",
            "text/plain": [
              "<Figure size 432x288 with 3 Axes>"
            ]
          },
          "metadata": {
            "needs_background": "light"
          }
        },
        {
          "output_type": "stream",
          "name": "stdout",
          "text": [
            "weights are equal to \n",
            "[[-1  1  1]\n",
            " [-3 -1 -1]\n",
            " [-3 -1 -1]\n",
            " [-3 -1 -1]\n",
            " [ 3  1  1]\n",
            " [ 1  3 -1]\n",
            " [-3 -1 -1]\n",
            " [-1  1  1]\n",
            " [ 1  3 -1]\n",
            " [-3 -1 -1]\n",
            " [ 1  3 -1]\n",
            " [ 3  1  1]\n",
            " [-1  1  1]\n",
            " [-1 -3  1]\n",
            " [-3 -1 -1]]\n"
          ]
        }
      ],
      "source": [
        "import matplotlib.pyplot as plt\n",
        "import copy \n",
        "import numpy as np\n",
        "\n",
        "\n",
        "def activation(input, output):\n",
        "  if input == 0:\n",
        "    return output\n",
        "  else:\n",
        "    return np.where(input > 0, np.where(input <= 0, input, 1.0), -1.0)\n",
        "\n",
        "input = np.array([[[-1, 1, 1], [1, -1, -1], [1, -1, -1], [1, -1, -1], [-1, 1, 1]],\n",
        "                    [[1, 1, 1], [1, -1, -1], [1, 1, -1], [1, -1, -1], [1, 1, 1]],\n",
        "                    [[1, 1, 1], [1, -1, 1], [1, 1, 1], [1, 1, -1], [1, -1, 1]]])\n",
        "input_ = np.array([input[0].reshape(15),input[1].reshape(15),input[2].reshape(15)])\n",
        "desired = np.array([[ -1, -1, -1],[ -1, -1, 1],[ -1, 1, -1]])\n",
        "\n",
        "for backwardOutput in range(3):\n",
        "    plt.subplot(1, 2, 1)\n",
        "    plt.imshow(input_[backwardOutput][:].reshape(5,3),cmap = \"gray_r\")\n",
        "    plt.title(\"INPUT No. \" + str(backwardOutput+1))\n",
        "    plt.subplot(1, 2, 2)\n",
        "    plt.imshow(desired[backwardOutput][:].reshape(3,1),cmap = \"gray_r\")\n",
        "    plt.title(\"DESIRED OUTPUT No. \" + str(backwardOutput+1))\n",
        "    plt.show()\n",
        "\n",
        "y = copy.copy(np.array(desired))\n",
        "out = np.zeros((3,3))\n",
        "\n",
        "backwardOutput = copy.copy(np.array(input_))\n",
        "sum0 = np.zeros((3,15))\n",
        "\n",
        "weights = np.matmul(np.transpose(input_), desired).reshape(3,15)\n",
        "weights = weights.reshape(15,3)\n",
        "\n",
        "def backwardPred(input_,desired, weights):\n",
        "    converged = False\n",
        "    for i in range(3):\n",
        "      while not converged:\n",
        "        for j in range(15):\n",
        "          sum_s = 0\n",
        "          for k in range(3):\n",
        "            sum_s += weights[j,k] * input_[i,k] \n",
        "          sum0[i,j] = sum_s\n",
        "          backwardOutput[i,j] = activation(sum0[i, j], backwardOutput[i,j])\n",
        "          if desired[i,j] == backwardOutput[i,j]:\n",
        "            converged = True\n",
        "    for i in range(3):\n",
        "        plt.subplot(1, 3, i+1)\n",
        "        plt.imshow(backwardOutput[i,:].reshape(5,3),cmap = \"gray_r\")\n",
        "    plt.show()\n",
        "\n",
        "def forwardPred(input_,desired, weights):\n",
        "\n",
        "    converged = False\n",
        "    for i in range(3):\n",
        "      while not converged:\n",
        "        for j in range(3):\n",
        "          sum_ = 0\n",
        "          for k in range(15):\n",
        "            sum_ = sum_ + input_[i,k] * weights[k,j]\n",
        "          out[i,j] = sum_\n",
        "          y[i,j] = activation(out[i, j], y[i,j])\n",
        "          if desired[i,j] == y[i,j]:\n",
        "            converged = True\n",
        "    for i in range(3):\n",
        "        plt.subplot(1, 3, i+1)\n",
        "        plt.imshow(y[i,:].reshape(3,1),cmap = \"gray_r\")\n",
        "    plt.show()\n",
        "\n",
        "print('Forward Prediction')\n",
        "forwardPred(input_,desired, weights)\n",
        "print('Backward Prediction')\n",
        "backwardPred(desired,input_, weights)\n",
        "print('weights are equal to ')\n",
        "print(weights)\n"
      ]
    },
    {
      "cell_type": "code",
      "source": [
        "\n",
        "\n",
        "import numpy as np\n",
        "import matplotlib.pyplot as plt\n",
        "sum = np.zeros((3,1))\n",
        "    \n",
        "def activation(x):\n",
        "  if x == 0:\n",
        "    return x\n",
        "  else:\n",
        "    return np.where(x > 0, np.where(x <= 0, x, 1.0), -1.0)\n",
        "\n",
        "for i in range(100):\n",
        "\n",
        "    input = np.array([[[-1, 1, 1], [1, -1, -1], [1, -1, -1], [1, -1, -1], [-1, 1, 1]],\n",
        "                        [[1, 1, 1], [1, -1, -1], [1, 1, -1], [1, -1, -1], [1, 1, 1]],\n",
        "                        [[1, 1, 1], [1, -1, 1], [1, 1, 1], [1, 1, -1], [1, -1, 1]]])\n",
        "    input_ = np.array([input[0].reshape(15),input[1].reshape(15),input[2].reshape(15)])\n",
        "    desired = np.array([[ -1, -1, -1],[ -1, -1, 1],[ -1, 1, -1]])\n",
        "    \n",
        "    weights = np.matmul(np.transpose(input_), desired).reshape(3,15)\n",
        "\n",
        "    weights = weights.reshape(15,3)\n",
        "    index = np.random.choice(15, 6, replace = False)\n",
        "\n",
        "    for i in range(3):\n",
        "      for j in range(len(index)):\n",
        "        if input_[i, index[j]] == 1:\n",
        "          input_[i, index[j]] = -1\n",
        "        else:\n",
        "          input_[i, index[j]] = 1\n",
        "\n",
        "    out = np.array([[np.matmul(input_[0].reshape(1, 15), weights)],[np.matmul(input_[1].reshape(1, 15), weights)],[np.matmul(input_[2].reshape(1, 15), weights)]])\n",
        "    out = out.reshape(3,3)\n",
        "    for i in range (3):\n",
        "      for j in range (0, 3):\n",
        "        out[i,j] = activation(out[i,j])\n",
        "        \n",
        "    for i in range(3):\n",
        "      if (out[i, :]==desired[i]).all():\n",
        "        sum[i,0] += 1\n",
        "        \n",
        "    # for i in range(3):\n",
        "    #     plt.subplot(1, 3, i+1)\n",
        "    #     plt.imshow(out[i,:].reshape(3,1),cmap = \"gray_r\")\n",
        "    # plt.show()\n",
        "\n",
        "print('mean prediction accuracy of 1st input(C)',sum[0])\n",
        "print('mean prediction accuracy of 2nd input(E)',sum[1])\n",
        "print('mean prediction accuracy of 3rd input(R)',sum[2])\n",
        "print('mean prediction accuracy of all inputs',np.sum(sum)/3)\n",
        "\n"
      ],
      "metadata": {
        "colab": {
          "base_uri": "https://localhost:8080/"
        },
        "id": "SLYe-FZBeTc8",
        "outputId": "05ca7499-2597-44bf-f3d8-dc5c447fd93c"
      },
      "execution_count": 136,
      "outputs": [
        {
          "output_type": "stream",
          "name": "stdout",
          "text": [
            "mean prediction accuracy of 1st input(C) [41.]\n",
            "mean prediction accuracy of 2nd input(E) [22.]\n",
            "mean prediction accuracy of 3rd input(R) [11.]\n",
            "mean prediction accuracy of all inputs 24.666666666666668\n"
          ]
        }
      ]
    },
    {
      "cell_type": "code",
      "source": [
        "\n",
        "\n",
        "import numpy as np\n",
        "import matplotlib.pyplot as plt\n",
        "sum = np.zeros((3,1))\n",
        "    \n",
        "def activation(x):\n",
        "  if x == 0:\n",
        "    return x\n",
        "  else:\n",
        "    return np.where(x > 0, np.where(x <= 0, x, 1.0), -1.0)\n",
        "\n",
        "for i in range(100):\n",
        "\n",
        "    input = np.array([[[-1, 1, 1], [1, -1, -1], [1, -1, -1], [1, -1, -1], [-1, 1, 1]],\n",
        "                        [[1, 1, 1], [1, -1, -1], [1, 1, -1], [1, -1, -1], [1, 1, 1]],\n",
        "                        [[1, 1, 1], [1, -1, 1], [1, 1, 1], [1, 1, -1], [1, -1, 1]]])\n",
        "    input_ = np.array([input[0].reshape(15),input[1].reshape(15),input[2].reshape(15)])\n",
        "    desired = np.array([[ -1, -1, -1],[ -1, -1, 1],[ -1, 1, -1]])\n",
        "    \n",
        "    weights = np.matmul(np.transpose(input_), desired).reshape(3,15)\n",
        "\n",
        "    weights = weights.reshape(15,3)\n",
        "    index = np.random.choice(3, 1, replace = False)\n",
        "\n",
        "    for i in range(3):\n",
        "      for j in range(1):\n",
        "        if desired[i, index[j]] == 1:\n",
        "          desired[i, index[j]] = -1\n",
        "        else:\n",
        "          desired[i, index[j]] = 1\n",
        "    # print(weights.T.shape, desired.shape[0])\n",
        "    out = np.array([[np.matmul(desired[0].reshape(1, 3), weights.T)],[np.matmul(desired[1].reshape(1, 3), weights.T)],[np.matmul(desired[2].reshape(1, 3), weights.T)]])\n",
        "    out = out.reshape(3,15)\n",
        "    for i in range(3):\n",
        "      for j in range(15):\n",
        "        out[i,j] = activation(out[i,j])\n",
        "        \n",
        "    for i in range(3):\n",
        "      if (out[i, :]==input_[i]).all():\n",
        "        sum[i,0] += 1\n",
        "        \n",
        "    # for i in range(3):\n",
        "    #     plt.subplot(1, 3, i+1)\n",
        "    #     plt.imshow(out[i,:].reshape(5,3),cmap = \"gray_r\")\n",
        "    # plt.show()\n",
        "\n",
        "print('mean prediction accuracy of 1st input([ -1, -1, -1])',sum[0])\n",
        "print('mean prediction accuracy of 2nd input([ -1, -1, 1])',sum[1])\n",
        "print('mean prediction accuracy of 3rd input([ -1, 1, -1])',sum[2])\n",
        "print('mean prediction accuracy of all inputs',np.sum(sum)/3)\n",
        "\n"
      ],
      "metadata": {
        "colab": {
          "base_uri": "https://localhost:8080/"
        },
        "id": "p_OeXA5XfK-9",
        "outputId": "431ceb85-8c75-44e9-9e32-3eabd1deb585"
      },
      "execution_count": 140,
      "outputs": [
        {
          "output_type": "stream",
          "name": "stdout",
          "text": [
            "mean prediction accuracy of 1st input([ -1, -1, -1]) [0.]\n",
            "mean prediction accuracy of 2nd input([ -1, -1, 1]) [0.]\n",
            "mean prediction accuracy of 3rd input([ -1, 1, -1]) [45.]\n",
            "mean prediction accuracy of all inputs 15.0\n"
          ]
        }
      ]
    },
    {
      "cell_type": "code",
      "source": [
        "import matplotlib.pyplot as plt\n",
        "import copy \n",
        "import numpy as np\n",
        "\n",
        "\n",
        "def activation(input, output):\n",
        "  if input == 0:\n",
        "    return output\n",
        "  else:\n",
        "    return np.where(input > 0, np.where(input <= 0, input, 1.0), -1.0)\n",
        "\n",
        "input = np.array([[[-1, 1, 1], [1, -1, -1], [1, -1, -1], [1, -1, -1], [-1, 1, 1]],\n",
        "                    [[1, 1, 1], [1, -1, -1], [1, 1, -1], [1, -1, -1], [1, 1, 1]],\n",
        "                    [[1, 1, 1], [1, -1, 1], [1, 1, 1], [1, 1, -1], [1, -1, 1]],\n",
        "                    [[-1, 1, -1], [1, -1, 1], [1, -1, 1], [1, -1, 1], [-1, 1, -1]],\n",
        "                    [[1, 1, 1], [1, -1, -1], [1, 1, -1], [1, -1, -1], [1, -1, -1]],\n",
        "                    [[1, 1, 1], [1, -1, 1], [1, 1, 1], [1, -1, -1], [1, -1, -1]]])\n",
        "input_ = np.array([input[0].reshape(15),input[1].reshape(15),input[2].reshape(15),input[3].reshape(15),input[4].reshape(15),input[5].reshape(15)])\n",
        "desired = np.array([[ -1, -1, -1],[ -1, -1, 1],[ -1, 1, -1],[ -1, 1, 1],[ 1, -1, -1],[ 1, -1, 1]])\n",
        "\n",
        "for backwardOutput in range(6):\n",
        "    plt.subplot(1, 2, 1)\n",
        "    plt.imshow(input_[backwardOutput][:].reshape(5,3),cmap = \"gray_r\")\n",
        "    plt.title(\"INPUT No. \" + str(backwardOutput+1))\n",
        "    plt.subplot(1, 2, 2)\n",
        "    plt.imshow(desired[backwardOutput][:].reshape(3,1),cmap = \"gray_r\")\n",
        "    plt.title(\"DESIRED OUTPUT No. \" + str(backwardOutput+1))\n",
        "    plt.show()\n",
        "\n",
        "y = copy.copy(np.array(desired))\n",
        "out = np.zeros((3,3))\n",
        "\n",
        "backwardOutput = copy.copy(np.array(input_))\n",
        "sum0 = np.zeros((3,15))\n",
        "\n",
        "weights = np.matmul(np.transpose(input_), desired).reshape(3,15)\n",
        "weights = weights.reshape(15,3)\n",
        "\n",
        "def backwardPred(input_,desired, weights):\n",
        "    converged = False\n",
        "    for i in range(6):\n",
        "      while not converged:\n",
        "        for j in range(15):\n",
        "          sum_s = 0\n",
        "          for k in range(3):\n",
        "            sum_s += weights[j,k] * input_[i,k] \n",
        "          sum0[i,j] = sum_s\n",
        "          backwardOutput[i,j] = activation(sum0[i, j], backwardOutput[i,j])\n",
        "          if desired[i,j] == backwardOutput[i,j]:\n",
        "            converged = True\n",
        "    plt.figure(figsize = (15,7))\n",
        "    for i in range(6):\n",
        "        plt.subplot(1, 6, i+1)\n",
        "        plt.imshow(backwardOutput[i,:].reshape(5,3),cmap = \"gray_r\")\n",
        "    plt.show()\n",
        "\n",
        "def forwardPred(input_,desired, weights):\n",
        "\n",
        "    converged = False\n",
        "    for i in range(6):\n",
        "      while not converged:\n",
        "        for j in range(3):\n",
        "          sum_ = 0\n",
        "          for k in range(15):\n",
        "            sum_ = sum_ + input_[i,k] * weights[k,j]\n",
        "          out[i,j] = sum_\n",
        "          y[i,j] = activation(out[i, j], y[i,j])\n",
        "          if desired[i,j] == y[i,j]:\n",
        "            converged = True\n",
        "    plt.figure(figsize = (15,7))\n",
        "    for i in range(6): \n",
        "        plt.subplot(1, 6, i+1)\n",
        "        plt.imshow(y[i,:].reshape(3,1),cmap = \"gray_r\")\n",
        "    plt.show()\n",
        "\n",
        "print('Forward Prediction')\n",
        "forwardPred(input_,desired, weights)\n",
        "print('Backward Prediction')\n",
        "backwardPred(desired,input_, weights)\n",
        "print('weights are equal to ')\n",
        "print(weights)\n"
      ],
      "metadata": {
        "colab": {
          "base_uri": "https://localhost:8080/",
          "height": 1000
        },
        "id": "SgvWqlByuXU5",
        "outputId": "7d8836e7-0a84-483f-aa21-7a69d39d12e2"
      },
      "execution_count": 148,
      "outputs": [
        {
          "output_type": "display_data",
          "data": {
            "image/png": "[encoded data removed]",
            "text/plain": [
              "<Figure size 432x288 with 2 Axes>"
            ]
          },
          "metadata": {
            "needs_background": "light"
          }
        },
        {
          "output_type": "display_data",
          "data": {
            "image/png": "[encoded data removed]",
            "text/plain": [
              "<Figure size 432x288 with 2 Axes>"
            ]
          },
          "metadata": {
            "needs_background": "light"
          }
        },
        {
          "output_type": "display_data",
          "data": {
            "image/png": "[encoded data removed]",
            "text/plain": [
              "<Figure size 432x288 with 2 Axes>"
            ]
          },
          "metadata": {
            "needs_background": "light"
          }
        },
        {
          "output_type": "display_data",
          "data": {
            "image/png": "[encoded data removed]",
            "text/plain": [
              "<Figure size 432x288 with 2 Axes>"
            ]
          },
          "metadata": {
            "needs_background": "light"
          }
        },
        {
          "output_type": "display_data",
          "data": {
            "image/png": "[encoded data removed]",
            "text/plain": [
              "<Figure size 432x288 with 2 Axes>"
            ]
          },
          "metadata": {
            "needs_background": "light"
          }
        },
        {
          "output_type": "display_data",
          "data": {
            "image/png": "[encoded data removed]",
            "text/plain": [
              "<Figure size 432x288 with 2 Axes>"
            ]
          },
          "metadata": {
            "needs_background": "light"
          }
        },
        {
          "output_type": "stream",
          "name": "stdout",
          "text": [
            "Forward Prediction\n"
          ]
        },
        {
          "output_type": "display_data",
          "data": {
            "image/png": "[encoded data removed]",
            "text/plain": [
              "<Figure size 1080x504 with 6 Axes>"
            ]
          },
          "metadata": {
            "needs_background": "light"
          }
        },
        {
          "output_type": "stream",
          "name": "stdout",
          "text": [
            "Backward Prediction\n"
          ]
        },
        {
          "output_type": "display_data",
          "data": {
            "image/png": "[encoded data removed]",
            "text/plain": [
              "<Figure size 1080x504 with 6 Axes>"
            ]
          },
          "metadata": {
            "needs_background": "light"
          }
        },
        {
          "output_type": "stream",
          "name": "stdout",
          "text": [
            "weights are equal to \n",
            "[[ 2 -2  0]\n",
            " [-2 -2  0]\n",
            " [ 0 -4 -2]\n",
            " [-2 -2  0]\n",
            " [ 2  2  0]\n",
            " [ 0  4  2]\n",
            " [-2 -2  0]\n",
            " [ 2 -2  0]\n",
            " [ 0  4  2]\n",
            " [-2 -2  0]\n",
            " [ 0  4 -2]\n",
            " [ 0  4  2]\n",
            " [ 2 -2  0]\n",
            " [-4  0  2]\n",
            " [-4  0 -2]]\n"
          ]
        }
      ]
    },
    {
      "cell_type": "code",
      "source": [
        "import numpy as np\n",
        "import matplotlib.pyplot as plt\n",
        "sum = np.zeros((6,1))\n",
        "    \n",
        "def activation(x):\n",
        "  if x == 0:\n",
        "    return x\n",
        "  else:\n",
        "    return np.where(x > 0, np.where(x <= 0, x, 1.0), -1.0)\n",
        "\n",
        "for i in range(100):\n",
        "\n",
        "    input = np.array([[[-1, 1, 1], [1, -1, -1], [1, -1, -1], [1, -1, -1], [-1, 1, 1]],\n",
        "                        [[1, 1, 1], [1, -1, -1], [1, 1, -1], [1, -1, -1], [1, 1, 1]],\n",
        "                        [[1, 1, 1], [1, -1, 1], [1, 1, 1], [1, 1, -1], [1, -1, 1]],\n",
        "                        [[-1, 1, -1], [1, -1, 1], [1, -1, 1], [1, -1, 1], [-1, 1, -1]],\n",
        "                        [[1, 1, 1], [1, -1, -1], [1, 1, -1], [1, -1, -1], [1, -1, -1]],\n",
        "                        [[1, 1, 1], [1, -1, 1], [1, 1, 1], [1, -1, -1], [1, -1, -1]]])\n",
        "    input_ = np.array([input[0].reshape(15),input[1].reshape(15),input[2].reshape(15),input[3].reshape(15),input[4].reshape(15),input[5].reshape(15)])\n",
        "    desired = np.array([[ -1, -1, -1],[ -1, -1, 1],[ -1, 1, -1],[ -1, 1, 1],[ 1, -1, -1],[ 1, -1, 1]])\n",
        "    \n",
        "    weights = np.matmul(np.transpose(input_), desired).reshape(3,15)\n",
        "\n",
        "    weights = weights.reshape(15,3)\n",
        "    index = np.random.choice(15, 6, replace = False)\n",
        "\n",
        "    for i in range(6):\n",
        "      for j in range(len(index)):\n",
        "        if input_[i, index[j]] == 1:\n",
        "          input_[i, index[j]] = -1\n",
        "        else:\n",
        "          input_[i, index[j]] = 1\n",
        "\n",
        "    out = np.array([[np.matmul(input_[0].reshape(1, 15), weights)],[np.matmul(input_[1].reshape(1, 15), weights)],[np.matmul(input_[2].reshape(1, 15), weights)],[np.matmul(input_[3].reshape(1, 15), weights)],[np.matmul(input_[4].reshape(1, 15), weights)],[np.matmul(input_[5].reshape(1, 15), weights)]])\n",
        "    out = out.reshape(6,3)\n",
        "    for i in range (6):\n",
        "      for j in range (3):\n",
        "        out[i,j] = activation(out[i,j])\n",
        "        \n",
        "    for i in range(6):\n",
        "      if (out[i, :]==desired[i]).all():\n",
        "        sum[i,0] += 1\n",
        "        \n",
        "    # for i in range(6):\n",
        "    #     plt.subplot(1, 6, i+1)\n",
        "    #     plt.imshow(out[i,:].reshape(3,1),cmap = \"gray_r\")\n",
        "    # plt.show()\n",
        "\n",
        "print('mean prediction accuracy of 1st input(C)',sum[0])\n",
        "print('mean prediction accuracy of 2nd input(E)',sum[1])\n",
        "print('mean prediction accuracy of 3rd input(R)',sum[2])\n",
        "print('mean prediction accuracy of 4th input(O)',sum[3])\n",
        "print('mean prediction accuracy of 5th input(F)',sum[4])\n",
        "print('mean prediction accuracy of 6th input(P)',sum[5])\n",
        "print('mean prediction accuracy of all inputs',np.sum(sum)/6)\n",
        "\n"
      ],
      "metadata": {
        "colab": {
          "base_uri": "https://localhost:8080/"
        },
        "id": "abPo288Fhr8y",
        "outputId": "ec912038-9f01-49a9-856d-89e9f19ccc6c"
      },
      "execution_count": 185,
      "outputs": [
        {
          "output_type": "stream",
          "name": "stdout",
          "text": [
            "mean prediction accuracy of 1st input(C) [21.]\n",
            "mean prediction accuracy of 2nd input(E) [23.]\n",
            "mean prediction accuracy of 3rd input(R) [8.]\n",
            "mean prediction accuracy of 4th input(O) [22.]\n",
            "mean prediction accuracy of 5th input(F) [20.]\n",
            "mean prediction accuracy of 6th input(P) [14.]\n",
            "mean prediction accuracy of all inputs 18.0\n"
          ]
        }
      ]
    },
    {
      "cell_type": "code",
      "source": [
        "\n",
        "\n",
        "import numpy as np\n",
        "import matplotlib.pyplot as plt\n",
        "sum = np.zeros((6,1))\n",
        "    \n",
        "def activation(x):\n",
        "  if x == 0:\n",
        "    return x\n",
        "  else:\n",
        "    return np.where(x > 0, np.where(x <= 0, x, 1.0), -1.0)\n",
        "\n",
        "for i in range(100):\n",
        "\n",
        "    input = np.array([[[-1, 1, 1], [1, -1, -1], [1, -1, -1], [1, -1, -1], [-1, 1, 1]],\n",
        "                        [[1, 1, 1], [1, -1, -1], [1, 1, -1], [1, -1, -1], [1, 1, 1]],\n",
        "                        [[1, 1, 1], [1, -1, 1], [1, 1, 1], [1, 1, -1], [1, -1, 1]],\n",
        "                        [[-1, 1, -1], [1, -1, 1], [1, -1, 1], [1, -1, 1], [-1, 1, -1]],\n",
        "                        [[1, 1, 1], [1, -1, -1], [1, 1, -1], [1, -1, -1], [1, -1, -1]],\n",
        "                        [[1, 1, 1], [1, -1, 1], [1, 1, 1], [1, -1, -1], [1, -1, -1]]])\n",
        "    input_ = np.array([input[0].reshape(15),input[1].reshape(15),input[2].reshape(15),input[3].reshape(15),input[4].reshape(15),input[5].reshape(15)])\n",
        "    desired = np.array([[ -1, -1, -1],[ -1, -1, 1],[ -1, 1, -1],[ -1, 1, 1],[ 1, -1, -1],[ 1, -1, 1]])\n",
        "    \n",
        "    weights = np.matmul(np.transpose(input_), desired).reshape(3,15)\n",
        "\n",
        "    weights = weights.reshape(15,3)\n",
        "    index = np.random.choice(3, 1, replace = False)\n",
        "\n",
        "    for i in range(6):\n",
        "      for j in range(1):\n",
        "        if desired[i, index[j]] == 1:\n",
        "          desired[i, index[j]] = -1\n",
        "        else:\n",
        "          desired[i, index[j]] = 1\n",
        "    # print(weights.T.shape, desired.shape[0])\n",
        "    out = np.array([[np.matmul(desired[0].reshape(1, 3), weights.T)],[np.matmul(desired[1].reshape(1, 3), weights.T)],[np.matmul(desired[2].reshape(1, 3), weights.T)],[np.matmul(desired[3].reshape(1, 3), weights.T)],[np.matmul(desired[4].reshape(1, 3), weights.T)],[np.matmul(desired[5].reshape(1, 3), weights.T)]])\n",
        "    out = out.reshape(6,15)\n",
        "    for i in range(6):\n",
        "      for j in range(15):\n",
        "        out[i,j] = activation(out[i,j])\n",
        "        \n",
        "    for i in range(6):\n",
        "      if (out[i, :]==input_[i]).all():\n",
        "        sum[i,0] += 1\n",
        "        \n",
        "    # for i in range(3):\n",
        "    #     plt.subplot(1, 3, i+1)\n",
        "    #     plt.imshow(out[i,:].reshape(5,3),cmap = \"gray_r\")\n",
        "    # plt.show()\n",
        "\n",
        "print('mean prediction accuracy of 1st input([ -1, -1, -1])',sum[0])\n",
        "print('mean prediction accuracy of 2nd input([ -1, -1, 1])',sum[1])\n",
        "print('mean prediction accuracy of 3rd input([ -1, 1, -1])',sum[2])\n",
        "print('mean prediction accuracy of 4th input([ -1, 1, 1])',sum[3])\n",
        "print('mean prediction accuracy of 5th input([ 1, -1, -1])',sum[4])\n",
        "print('mean prediction accuracy of 6th input([ 1, -1, 1])',sum[5])\n",
        "print('mean prediction accuracy of all inputs',np.sum(sum)/6)\n",
        "\n"
      ],
      "metadata": {
        "colab": {
          "base_uri": "https://localhost:8080/"
        },
        "id": "edkh7vAwwUod",
        "outputId": "a0cba83f-bd0c-4c30-ed45-8d6c427fa192"
      },
      "execution_count": 190,
      "outputs": [
        {
          "output_type": "stream",
          "name": "stdout",
          "text": [
            "mean prediction accuracy of 1st input([ -1, -1, -1]) [0.]\n",
            "mean prediction accuracy of 2nd input([ -1, -1, 1]) [0.]\n",
            "mean prediction accuracy of 3rd input([ -1, 1, -1]) [0.]\n",
            "mean prediction accuracy of 4th input([ -1, 1, 1]) [0.]\n",
            "mean prediction accuracy of 5th input([ 1, -1, -1]) [0.]\n",
            "mean prediction accuracy of 6th input([ 1, -1, 1]) [0.]\n",
            "mean prediction accuracy of all inputs 0.0\n"
          ]
        }
      ]
    }
  ]
}